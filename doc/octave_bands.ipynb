{
 "cells": [
  {
   "cell_type": "markdown",
   "metadata": {},
   "source": [
    "# Octave Bands"
   ]
  },
  {
   "cell_type": "code",
   "execution_count": 3,
   "metadata": {},
   "outputs": [],
   "source": [
    "import numpy as np\n",
    "np.set_printoptions(suppress=True)"
   ]
  },
  {
   "cell_type": "code",
   "execution_count": 54,
   "metadata": {},
   "outputs": [
    {
     "name": "stdout",
     "output_type": "stream",
     "text": [
      "   11.049 Hz <--    15.625 Hz -->    22.097 Hz\n",
      "   22.097 Hz <--    31.250 Hz -->    44.194 Hz\n",
      "   44.194 Hz <--    62.500 Hz -->    88.388 Hz\n",
      "   88.388 Hz <--   125.000 Hz -->   176.777 Hz\n",
      "  176.777 Hz <--   250.000 Hz -->   353.553 Hz\n",
      "  353.553 Hz <--   500.000 Hz -->   707.107 Hz\n",
      "  707.107 Hz <--  1000.000 Hz -->  1414.214 Hz\n",
      " 1414.214 Hz <--  2000.000 Hz -->  2828.427 Hz\n",
      " 2828.427 Hz <--  4000.000 Hz -->  5656.854 Hz\n",
      " 5656.854 Hz <--  8000.000 Hz --> 11313.708 Hz\n",
      "11313.708 Hz <-- 16000.000 Hz --> 22627.417 Hz\n"
     ]
    }
   ],
   "source": [
    "fraction = 1\n",
    "scale = fraction/3\n",
    "fcentre  = 10**3 * (2 ** (np.arange(np.ceil(-18*scale),np.ceil(13*scale))/fraction))\n",
    "fd = 2**(1/(fraction*2))\n",
    "fupper = fcentre * fd\n",
    "flower = fcentre / fd\n",
    "for i,_ in enumerate(fcentre):\n",
    "    print(f\"{flower[i]:>9.3f} Hz <-- {fcentre[i]:>9.3f} Hz --> {fupper[i]:>9.3f} Hz\")"
   ]
  },
  {
   "cell_type": "code",
   "execution_count": null,
   "metadata": {},
   "outputs": [],
   "source": []
  }
 ],
 "metadata": {
  "kernelspec": {
   "display_name": "venv",
   "language": "python",
   "name": "python3"
  },
  "language_info": {
   "codemirror_mode": {
    "name": "ipython",
    "version": 3
   },
   "file_extension": ".py",
   "mimetype": "text/x-python",
   "name": "python",
   "nbconvert_exporter": "python",
   "pygments_lexer": "ipython3",
   "version": "3.12.4"
  }
 },
 "nbformat": 4,
 "nbformat_minor": 2
}
